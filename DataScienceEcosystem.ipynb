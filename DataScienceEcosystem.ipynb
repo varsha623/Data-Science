{
 "cells": [
  {
   "cell_type": "markdown",
   "id": "bf0ab6ce-8e88-42bb-8f18-e113d38e1388",
   "metadata": {},
   "source": [
    "# Data Science Tools and Ecosystem"
   ]
  },
  {
   "cell_type": "markdown",
   "id": "e54a2f58-b134-4d25-b96f-e707b97356be",
   "metadata": {},
   "source": [
    "In this notebook, Data Science Tools and Ecosystem are summarized."
   ]
  },
  {
   "cell_type": "markdown",
   "id": "097c554e-83d5-4e39-8ac0-ef75e6b99c2c",
   "metadata": {},
   "source": [
    "Some of the popular languages that Data Scientists use are:\n",
    "1. Python\n",
    "2. R\n",
    "3. SQL\n",
    "4. Java\n",
    "5. Scala\n",
    "6. C++\n",
    "7. Javascript\n",
    "8. Julia"
   ]
  },
  {
   "cell_type": "markdown",
   "id": "abc17040-bbb6-4bfe-b848-7b204001e0d7",
   "metadata": {},
   "source": [
    "Some of the commonly used libraries used by Data Scientists include:\n",
    "1. Pandas\n",
    "2. Numpy\n",
    "3. Matplotlib\n",
    "4. Seaborn\n",
    "5. Scikit-learn\n",
    "6. Keras\n",
    "7. Tensorflow\n",
    "8. Pytorch"
   ]
  },
  {
   "cell_type": "markdown",
   "id": "311f94c1-ca5f-4027-ada0-2320c8798c06",
   "metadata": {},
   "source": [
    "Data Science Tools |\n",
    "| --- |\n",
    "| Apache Spark |\n",
    "| RStudio |\n",
    "| Tensorflow |\n",
    "\n"
   ]
  },
  {
   "cell_type": "markdown",
   "id": "61d49b42-4848-4291-b75a-fb3baa4253cc",
   "metadata": {},
   "source": [
    "### Below are a few examples of evaluating arithmetic expressions in Python"
   ]
  },
  {
   "cell_type": "code",
   "execution_count": 3,
   "id": "fcee568d-ba0a-4eb0-8671-e5bb4fad4307",
   "metadata": {},
   "outputs": [
    {
     "data": {
      "text/plain": [
       "17"
      ]
     },
     "execution_count": 3,
     "metadata": {},
     "output_type": "execute_result"
    }
   ],
   "source": [
    "(3*4)+5"
   ]
  },
  {
   "cell_type": "code",
   "execution_count": 5,
   "id": "03c34c4c-ec29-4231-9346-1844c8876868",
   "metadata": {},
   "outputs": [
    {
     "name": "stdout",
     "output_type": "stream",
     "text": [
      "3.3333333333333335\n"
     ]
    }
   ],
   "source": [
    "# This will convert 200 minutes to hours by diving by 60\n",
    "minutes = 200\n",
    "hours = minutes/60\n",
    "print(hours)"
   ]
  },
  {
   "cell_type": "markdown",
   "id": "8caa45c9-2422-4a1a-985a-ccbcaeaf54e5",
   "metadata": {},
   "source": [
    "Objectives:\n",
    "- Creating markdown cells with various headings\n",
    "- Creating markdown for a table\n",
    "- Creating a markdown for an ordered list\n",
    "- Using code to calucalte basic aritmetic\n",
    "- Creating a markdown for an undordered list"
   ]
  },
  {
   "cell_type": "markdown",
   "id": "51aa892e-13a6-44d0-9988-02bb6ddfeb77",
   "metadata": {},
   "source": [
    "## Author\n",
    "Varsha Hart"
   ]
  },
  {
   "cell_type": "code",
   "execution_count": null,
   "id": "0689d90a-61f1-4d5d-a9a2-f8abf0a95612",
   "metadata": {},
   "outputs": [],
   "source": []
  }
 ],
 "metadata": {
  "kernelspec": {
   "display_name": "Python 3 (ipykernel)",
   "language": "python",
   "name": "python3"
  },
  "language_info": {
   "codemirror_mode": {
    "name": "ipython",
    "version": 3
   },
   "file_extension": ".py",
   "mimetype": "text/x-python",
   "name": "python",
   "nbconvert_exporter": "python",
   "pygments_lexer": "ipython3",
   "version": "3.9.13"
  }
 },
 "nbformat": 4,
 "nbformat_minor": 5
}
